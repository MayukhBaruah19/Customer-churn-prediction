{
 "cells": [
  {
   "cell_type": "code",
   "execution_count": 1,
   "id": "d8f908e0",
   "metadata": {},
   "outputs": [],
   "source": [
    "import sys\n",
    "import os\n",
    "import pandas as pd\n",
    "import numpy as np\n",
    "import seaborn as sns\n",
    "import matplotlib.pyplot as plt\n",
    "import warnings\n"
   ]
  },
  {
   "cell_type": "code",
   "execution_count": 2,
   "id": "72f93a21",
   "metadata": {},
   "outputs": [
    {
     "data": {
      "text/html": [
       "<div>\n",
       "<style scoped>\n",
       "    .dataframe tbody tr th:only-of-type {\n",
       "        vertical-align: middle;\n",
       "    }\n",
       "\n",
       "    .dataframe tbody tr th {\n",
       "        vertical-align: top;\n",
       "    }\n",
       "\n",
       "    .dataframe thead th {\n",
       "        text-align: right;\n",
       "    }\n",
       "</style>\n",
       "<table border=\"1\" class=\"dataframe\">\n",
       "  <thead>\n",
       "    <tr style=\"text-align: right;\">\n",
       "      <th></th>\n",
       "      <th>customerID</th>\n",
       "      <th>gender</th>\n",
       "      <th>SeniorCitizen</th>\n",
       "      <th>Partner</th>\n",
       "      <th>Dependents</th>\n",
       "      <th>tenure</th>\n",
       "      <th>PhoneService</th>\n",
       "      <th>MultipleLines</th>\n",
       "      <th>InternetService</th>\n",
       "      <th>OnlineSecurity</th>\n",
       "      <th>...</th>\n",
       "      <th>DeviceProtection</th>\n",
       "      <th>TechSupport</th>\n",
       "      <th>StreamingTV</th>\n",
       "      <th>StreamingMovies</th>\n",
       "      <th>Contract</th>\n",
       "      <th>PaperlessBilling</th>\n",
       "      <th>PaymentMethod</th>\n",
       "      <th>MonthlyCharges</th>\n",
       "      <th>TotalCharges</th>\n",
       "      <th>Churn</th>\n",
       "    </tr>\n",
       "  </thead>\n",
       "  <tbody>\n",
       "    <tr>\n",
       "      <th>0</th>\n",
       "      <td>7590-VHVEG</td>\n",
       "      <td>Female</td>\n",
       "      <td>0</td>\n",
       "      <td>Yes</td>\n",
       "      <td>No</td>\n",
       "      <td>1</td>\n",
       "      <td>No</td>\n",
       "      <td>No phone service</td>\n",
       "      <td>DSL</td>\n",
       "      <td>No</td>\n",
       "      <td>...</td>\n",
       "      <td>No</td>\n",
       "      <td>No</td>\n",
       "      <td>No</td>\n",
       "      <td>No</td>\n",
       "      <td>Month-to-month</td>\n",
       "      <td>Yes</td>\n",
       "      <td>Electronic check</td>\n",
       "      <td>29.85</td>\n",
       "      <td>29.85</td>\n",
       "      <td>No</td>\n",
       "    </tr>\n",
       "    <tr>\n",
       "      <th>1</th>\n",
       "      <td>5575-GNVDE</td>\n",
       "      <td>Male</td>\n",
       "      <td>0</td>\n",
       "      <td>No</td>\n",
       "      <td>No</td>\n",
       "      <td>34</td>\n",
       "      <td>Yes</td>\n",
       "      <td>No</td>\n",
       "      <td>DSL</td>\n",
       "      <td>Yes</td>\n",
       "      <td>...</td>\n",
       "      <td>Yes</td>\n",
       "      <td>No</td>\n",
       "      <td>No</td>\n",
       "      <td>No</td>\n",
       "      <td>One year</td>\n",
       "      <td>No</td>\n",
       "      <td>Mailed check</td>\n",
       "      <td>56.95</td>\n",
       "      <td>1889.5</td>\n",
       "      <td>No</td>\n",
       "    </tr>\n",
       "    <tr>\n",
       "      <th>2</th>\n",
       "      <td>3668-QPYBK</td>\n",
       "      <td>Male</td>\n",
       "      <td>0</td>\n",
       "      <td>No</td>\n",
       "      <td>No</td>\n",
       "      <td>2</td>\n",
       "      <td>Yes</td>\n",
       "      <td>No</td>\n",
       "      <td>DSL</td>\n",
       "      <td>Yes</td>\n",
       "      <td>...</td>\n",
       "      <td>No</td>\n",
       "      <td>No</td>\n",
       "      <td>No</td>\n",
       "      <td>No</td>\n",
       "      <td>Month-to-month</td>\n",
       "      <td>Yes</td>\n",
       "      <td>Mailed check</td>\n",
       "      <td>53.85</td>\n",
       "      <td>108.15</td>\n",
       "      <td>Yes</td>\n",
       "    </tr>\n",
       "    <tr>\n",
       "      <th>3</th>\n",
       "      <td>7795-CFOCW</td>\n",
       "      <td>Male</td>\n",
       "      <td>0</td>\n",
       "      <td>No</td>\n",
       "      <td>No</td>\n",
       "      <td>45</td>\n",
       "      <td>No</td>\n",
       "      <td>No phone service</td>\n",
       "      <td>DSL</td>\n",
       "      <td>Yes</td>\n",
       "      <td>...</td>\n",
       "      <td>Yes</td>\n",
       "      <td>Yes</td>\n",
       "      <td>No</td>\n",
       "      <td>No</td>\n",
       "      <td>One year</td>\n",
       "      <td>No</td>\n",
       "      <td>Bank transfer (automatic)</td>\n",
       "      <td>42.30</td>\n",
       "      <td>1840.75</td>\n",
       "      <td>No</td>\n",
       "    </tr>\n",
       "    <tr>\n",
       "      <th>4</th>\n",
       "      <td>9237-HQITU</td>\n",
       "      <td>Female</td>\n",
       "      <td>0</td>\n",
       "      <td>No</td>\n",
       "      <td>No</td>\n",
       "      <td>2</td>\n",
       "      <td>Yes</td>\n",
       "      <td>No</td>\n",
       "      <td>Fiber optic</td>\n",
       "      <td>No</td>\n",
       "      <td>...</td>\n",
       "      <td>No</td>\n",
       "      <td>No</td>\n",
       "      <td>No</td>\n",
       "      <td>No</td>\n",
       "      <td>Month-to-month</td>\n",
       "      <td>Yes</td>\n",
       "      <td>Electronic check</td>\n",
       "      <td>70.70</td>\n",
       "      <td>151.65</td>\n",
       "      <td>Yes</td>\n",
       "    </tr>\n",
       "  </tbody>\n",
       "</table>\n",
       "<p>5 rows × 21 columns</p>\n",
       "</div>"
      ],
      "text/plain": [
       "   customerID  gender  SeniorCitizen Partner Dependents  tenure PhoneService  \\\n",
       "0  7590-VHVEG  Female              0     Yes         No       1           No   \n",
       "1  5575-GNVDE    Male              0      No         No      34          Yes   \n",
       "2  3668-QPYBK    Male              0      No         No       2          Yes   \n",
       "3  7795-CFOCW    Male              0      No         No      45           No   \n",
       "4  9237-HQITU  Female              0      No         No       2          Yes   \n",
       "\n",
       "      MultipleLines InternetService OnlineSecurity  ... DeviceProtection  \\\n",
       "0  No phone service             DSL             No  ...               No   \n",
       "1                No             DSL            Yes  ...              Yes   \n",
       "2                No             DSL            Yes  ...               No   \n",
       "3  No phone service             DSL            Yes  ...              Yes   \n",
       "4                No     Fiber optic             No  ...               No   \n",
       "\n",
       "  TechSupport StreamingTV StreamingMovies        Contract PaperlessBilling  \\\n",
       "0          No          No              No  Month-to-month              Yes   \n",
       "1          No          No              No        One year               No   \n",
       "2          No          No              No  Month-to-month              Yes   \n",
       "3         Yes          No              No        One year               No   \n",
       "4          No          No              No  Month-to-month              Yes   \n",
       "\n",
       "               PaymentMethod MonthlyCharges  TotalCharges Churn  \n",
       "0           Electronic check          29.85         29.85    No  \n",
       "1               Mailed check          56.95        1889.5    No  \n",
       "2               Mailed check          53.85        108.15   Yes  \n",
       "3  Bank transfer (automatic)          42.30       1840.75    No  \n",
       "4           Electronic check          70.70        151.65   Yes  \n",
       "\n",
       "[5 rows x 21 columns]"
      ]
     },
     "execution_count": 2,
     "metadata": {},
     "output_type": "execute_result"
    }
   ],
   "source": [
    "data=pd.read_csv('data/churn data.csv')\n",
    "data.head()"
   ]
  },
  {
   "cell_type": "code",
   "execution_count": 3,
   "id": "6ae98c96",
   "metadata": {},
   "outputs": [],
   "source": [
    "#dropping umwanted columns\n",
    "data.drop('customerID', axis=1, inplace=True)\n"
   ]
  },
  {
   "cell_type": "markdown",
   "id": "454dd68b",
   "metadata": {},
   "source": [
    "### Splitting the data"
   ]
  },
  {
   "cell_type": "code",
   "execution_count": 4,
   "id": "9e9b8975",
   "metadata": {},
   "outputs": [],
   "source": [
    "X=data.drop(['Churn'], axis=1)\n",
    "y=data['Churn']\n",
    "y=y.to_frame()"
   ]
  },
  {
   "cell_type": "code",
   "execution_count": 5,
   "id": "cab960d8",
   "metadata": {},
   "outputs": [],
   "source": [
    "data['TotalCharges'] = pd.to_numeric(data['TotalCharges'], errors='coerce')"
   ]
  },
  {
   "cell_type": "code",
   "execution_count": 6,
   "id": "92fd6aab",
   "metadata": {},
   "outputs": [
    {
     "name": "stdout",
     "output_type": "stream",
     "text": [
      "gender ['Female' 'Male']\n",
      "------------------------------\n",
      "SeniorCitizen [0 1]\n",
      "------------------------------\n",
      "Partner ['Yes' 'No']\n",
      "------------------------------\n",
      "Dependents ['No' 'Yes']\n",
      "------------------------------\n",
      "PhoneService ['No' 'Yes']\n",
      "------------------------------\n",
      "MultipleLines ['No phone service' 'No' 'Yes']\n",
      "------------------------------\n",
      "InternetService ['DSL' 'Fiber optic' 'No']\n",
      "------------------------------\n",
      "OnlineSecurity ['No' 'Yes' 'No internet service']\n",
      "------------------------------\n",
      "OnlineBackup ['Yes' 'No' 'No internet service']\n",
      "------------------------------\n",
      "DeviceProtection ['No' 'Yes' 'No internet service']\n",
      "------------------------------\n",
      "TechSupport ['No' 'Yes' 'No internet service']\n",
      "------------------------------\n",
      "StreamingTV ['No' 'Yes' 'No internet service']\n",
      "------------------------------\n",
      "StreamingMovies ['No' 'Yes' 'No internet service']\n",
      "------------------------------\n",
      "Contract ['Month-to-month' 'One year' 'Two year']\n",
      "------------------------------\n",
      "PaperlessBilling ['Yes' 'No']\n",
      "------------------------------\n",
      "PaymentMethod ['Electronic check' 'Mailed check' 'Bank transfer (automatic)'\n",
      " 'Credit card (automatic)']\n",
      "------------------------------\n",
      "Churn ['No' 'Yes']\n",
      "------------------------------\n"
     ]
    }
   ],
   "source": [
    "numerical_features=['tenure','MonthlyCharges','TotalCharges']\n",
    "for column in data.columns:\n",
    "    if column not in numerical_features:\n",
    "         print(column,data[column].unique())\n",
    "         print('-'*30)"
   ]
  },
  {
   "cell_type": "code",
   "execution_count": 7,
   "id": "32ec7d0a",
   "metadata": {},
   "outputs": [],
   "source": [
    "data['TotalCharges'] = data['TotalCharges'].replace('', np.nan)\n",
    "data['TotalCharges'] = data['TotalCharges'].astype(float)\n",
    "data['TotalCharges'] = data['TotalCharges'].fillna(data['TotalCharges'].mean())"
   ]
  },
  {
   "cell_type": "code",
   "execution_count": 8,
   "id": "25d2ad0e",
   "metadata": {},
   "outputs": [],
   "source": [
    "numerical_features=data.select_dtypes(include=['number']).columns\n",
    "categorical_features=X.select_dtypes(exclude=['number']).columns"
   ]
  },
  {
   "cell_type": "code",
   "execution_count": 9,
   "id": "59c0aded",
   "metadata": {},
   "outputs": [
    {
     "data": {
      "text/plain": [
       "dtype('float64')"
      ]
     },
     "execution_count": 9,
     "metadata": {},
     "output_type": "execute_result"
    }
   ],
   "source": [
    "data['TotalCharges'].dtypes"
   ]
  },
  {
   "cell_type": "code",
   "execution_count": 10,
   "id": "fa3836f6",
   "metadata": {},
   "outputs": [
    {
     "name": "stdout",
     "output_type": "stream",
     "text": [
      "Index(['SeniorCitizen', 'tenure', 'MonthlyCharges', 'TotalCharges'], dtype='object')\n",
      "____________________________________________________________________________________________________\n",
      "Index(['gender', 'Partner', 'Dependents', 'PhoneService', 'MultipleLines',\n",
      "       'InternetService', 'OnlineSecurity', 'OnlineBackup', 'DeviceProtection',\n",
      "       'TechSupport', 'StreamingTV', 'StreamingMovies', 'Contract',\n",
      "       'PaperlessBilling', 'PaymentMethod', 'TotalCharges'],\n",
      "      dtype='object')\n"
     ]
    }
   ],
   "source": [
    "print(numerical_features)\n",
    "print('_'*100)\n",
    "print(categorical_features)"
   ]
  },
  {
   "cell_type": "code",
   "execution_count": 11,
   "id": "91059630",
   "metadata": {},
   "outputs": [],
   "source": [
    "from sklearn.preprocessing import StandardScaler, OneHotEncoder,LabelEncoder\n",
    "from sklearn.compose import ColumnTransformer\n",
    "Label_Encoder=LabelEncoder()\n",
    "standered_scaller=StandardScaler()\n",
    "one_hot_encoder=OneHotEncoder()\n",
    "column_transformer=ColumnTransformer([\n",
    "    ('OneHotEncoder', one_hot_encoder, categorical_features),\n",
    "\n",
    "    ('StandardScaler', standered_scaller, numerical_features),\n",
    "]\n",
    ")\n"
   ]
  },
  {
   "cell_type": "code",
   "execution_count": null,
   "id": "ebdeb296",
   "metadata": {},
   "outputs": [],
   "source": [
    "\n",
    "# Clean all numeric-looking columns\n",
    "for col in X.columns:\n",
    "    if X[col].dtype == 'object':\n",
    "        try:\n",
    "            X[col] = X[col].astype(str).str.strip().replace('', np.nan)\n",
    "            X[col] = X[col].astype(float)\n",
    "            X[col] = X[col].fillna(X[col].mean())\n",
    "        except:\n",
    "            pass  \n"
   ]
  },
  {
   "cell_type": "code",
   "execution_count": 13,
   "id": "85c7311f",
   "metadata": {},
   "outputs": [],
   "source": [
    "cleaned_data = pd.concat([X, y], axis=1)\n"
   ]
  },
  {
   "cell_type": "code",
   "execution_count": 14,
   "id": "5e807de1",
   "metadata": {},
   "outputs": [
    {
     "name": "stdout",
     "output_type": "stream",
     "text": [
      "Cleaned data saved to: data\\cleaned_data.csv\n"
     ]
    }
   ],
   "source": [
    "import os\n",
    "\n",
    "# Define the path where you want to save the file\n",
    "folder_path = r'data'\n",
    "file_name = 'cleaned_data.csv'\n",
    "file_path = os.path.join(folder_path, file_name)\n",
    "\n",
    "# Create the folder if it doesn't exist\n",
    "os.makedirs(folder_path, exist_ok=True)\n",
    "\n",
    "# Save the cleaned_data DataFrame as a CSV file\n",
    "cleaned_data.to_csv(file_path, index=False)\n",
    "\n",
    "print(f\"Cleaned data saved to: {file_path}\")\n"
   ]
  },
  {
   "cell_type": "code",
   "execution_count": 15,
   "id": "46853f87",
   "metadata": {},
   "outputs": [
    {
     "name": "stderr",
     "output_type": "stream",
     "text": [
      "c:\\Users\\acer\\Desktop\\churn end to end\\Customer-churn-prediction\\venv_e\\Lib\\site-packages\\sklearn\\preprocessing\\_label.py:110: DataConversionWarning: A column-vector y was passed when a 1d array was expected. Please change the shape of y to (n_samples, ), for example using ravel().\n",
      "  y = column_or_1d(y, warn=True)\n"
     ]
    }
   ],
   "source": [
    "X=column_transformer.fit_transform(X)\n",
    "y=Label_Encoder.fit_transform(y)\n"
   ]
  },
  {
   "cell_type": "code",
   "execution_count": 16,
   "id": "df414b95",
   "metadata": {},
   "outputs": [
    {
     "data": {
      "text/plain": [
       "array([[ 1.        ,  0.        ,  0.        , ..., -1.27744458,\n",
       "        -1.16032292, -0.99497138],\n",
       "       [ 0.        ,  1.        ,  1.        , ...,  0.06632742,\n",
       "        -0.25962894, -0.17387565],\n",
       "       [ 0.        ,  1.        ,  1.        , ..., -1.23672422,\n",
       "        -0.36266036, -0.96039939],\n",
       "       ...,\n",
       "       [ 1.        ,  0.        ,  0.        , ..., -0.87024095,\n",
       "        -1.1686319 , -0.85518222],\n",
       "       [ 0.        ,  1.        ,  0.        , ..., -1.15528349,\n",
       "         0.32033821, -0.87277729],\n",
       "       [ 0.        ,  1.        ,  1.        , ...,  1.36937906,\n",
       "         1.35896134,  2.01391739]], shape=(7043, 6576))"
      ]
     },
     "execution_count": 16,
     "metadata": {},
     "output_type": "execute_result"
    }
   ],
   "source": [
    "X.toarray()"
   ]
  },
  {
   "cell_type": "code",
   "execution_count": 17,
   "id": "e39d607a",
   "metadata": {},
   "outputs": [
    {
     "data": {
      "text/plain": [
       "((5634, 6576), (1409, 6576))"
      ]
     },
     "execution_count": 17,
     "metadata": {},
     "output_type": "execute_result"
    }
   ],
   "source": [
    "from sklearn.model_selection import  train_test_split\n",
    "X_train,X_test,y_train,y_test=train_test_split(X,y,test_size=0.2)\n",
    "X_train.shape,X_test.shape"
   ]
  },
  {
   "cell_type": "code",
   "execution_count": 18,
   "id": "b3e05b88",
   "metadata": {},
   "outputs": [
    {
     "data": {
      "text/plain": [
       "0    4157\n",
       "1    1477\n",
       "Name: count, dtype: int64"
      ]
     },
     "execution_count": 18,
     "metadata": {},
     "output_type": "execute_result"
    }
   ],
   "source": [
    "pd.Series(y_train).value_counts()"
   ]
  },
  {
   "cell_type": "code",
   "execution_count": 21,
   "id": "a2e19963",
   "metadata": {},
   "outputs": [
    {
     "data": {
      "text/plain": [
       "array([[ 0.00000000e+00,  1.00000000e+00,  0.00000000e+00, ...,\n",
       "        -1.15528349e+00, -4.88956928e-01, -9.28962288e-01],\n",
       "       [ 0.00000000e+00,  1.00000000e+00,  1.00000000e+00, ...,\n",
       "        -3.00155854e-01,  2.05674218e-01, -2.27808836e-01],\n",
       "       [ 1.00000000e+00,  0.00000000e+00,  1.00000000e+00, ...,\n",
       "        -5.44478037e-01, -1.47938794e+00, -8.38757218e-01],\n",
       "       ...,\n",
       "       [ 1.00000000e+00,  0.00000000e+00,  1.00000000e+00, ...,\n",
       "         9.21455057e-01, -3.88609919e-04,  5.88915721e-01],\n",
       "       [ 1.00000000e+00,  0.00000000e+00,  0.00000000e+00, ...,\n",
       "         1.61370124e+00,  1.45866916e+00,  2.40328274e+00],\n",
       "       [ 1.00000000e+00,  0.00000000e+00,  1.00000000e+00, ...,\n",
       "         1.24721797e+00,  5.01474084e-01,  1.13833656e+00]],\n",
       "      shape=(5634, 6576))"
      ]
     },
     "execution_count": 21,
     "metadata": {},
     "output_type": "execute_result"
    }
   ],
   "source": [
    "X_train.toarray()"
   ]
  },
  {
   "cell_type": "markdown",
   "id": "a5ff19b4",
   "metadata": {},
   "source": [
    "We will perform SMOTE to the tranning data"
   ]
  },
  {
   "cell_type": "code",
   "execution_count": 22,
   "id": "3e0dfad2",
   "metadata": {},
   "outputs": [
    {
     "name": "stderr",
     "output_type": "stream",
     "text": [
      "c:\\Users\\acer\\Desktop\\churn end to end\\Customer-churn-prediction\\venv_e\\Lib\\site-packages\\sklearn\\base.py:474: FutureWarning: `BaseEstimator._validate_data` is deprecated in 1.6 and will be removed in 1.7. Use `sklearn.utils.validation.validate_data` instead. This function becomes public and is part of the scikit-learn developer API.\n",
      "  warnings.warn(\n"
     ]
    }
   ],
   "source": [
    "from imblearn.over_sampling import SMOTE\n",
    "smote=SMOTE(random_state=42)\n",
    "X_train,y_train=smote.fit_resample(X_train,y_train)"
   ]
  },
  {
   "cell_type": "code",
   "execution_count": 23,
   "id": "8827d7bd",
   "metadata": {},
   "outputs": [
    {
     "data": {
      "text/plain": [
       "1    4157\n",
       "0    4157\n",
       "Name: count, dtype: int64"
      ]
     },
     "execution_count": 23,
     "metadata": {},
     "output_type": "execute_result"
    }
   ],
   "source": [
    "pd.Series(y_train).value_counts()"
   ]
  },
  {
   "cell_type": "markdown",
   "id": "570df5a3",
   "metadata": {},
   "source": [
    "## Model Tranning"
   ]
  },
  {
   "cell_type": "markdown",
   "id": "7e2089d3",
   "metadata": {},
   "source": [
    "**Applying cross validation and selects the best model**"
   ]
  },
  {
   "cell_type": "code",
   "execution_count": null,
   "id": "46ea8fc5",
   "metadata": {},
   "outputs": [
    {
     "name": "stdout",
     "output_type": "stream",
     "text": [
      "Tranning LogisticRegression  : \n"
     ]
    },
    {
     "name": "stderr",
     "output_type": "stream",
     "text": [
      "c:\\Users\\acer\\Desktop\\churn end to end\\Customer-churn-prediction\\venv_e\\Lib\\site-packages\\sklearn\\linear_model\\_logistic.py:465: ConvergenceWarning: lbfgs failed to converge (status=1):\n",
      "STOP: TOTAL NO. OF ITERATIONS REACHED LIMIT.\n",
      "\n",
      "Increase the number of iterations (max_iter) or scale the data as shown in:\n",
      "    https://scikit-learn.org/stable/modules/preprocessing.html\n",
      "Please also refer to the documentation for alternative solver options:\n",
      "    https://scikit-learn.org/stable/modules/linear_model.html#logistic-regression\n",
      "  n_iter_i = _check_optimize_result(\n"
     ]
    },
    {
     "name": "stdout",
     "output_type": "stream",
     "text": [
      "LogisticRegressionCross validation accuracy : 0.83\n",
      "___________________________________\n",
      "Tranning DecissionTree  : \n",
      "DecissionTreeCross validation accuracy : 0.84\n",
      "___________________________________\n",
      "Tranning RandomForest  : \n",
      "RandomForestCross validation accuracy : 0.87\n",
      "___________________________________\n",
      "Tranning Xgboost  : \n",
      "XgboostCross validation accuracy : 0.85\n",
      "___________________________________\n"
     ]
    }
   ],
   "source": [
    "from sklearn.linear_model import LogisticRegression\n",
    "from sklearn.tree import DecisionTreeClassifier\n",
    "from sklearn.ensemble import RandomForestClassifier\n",
    "from xgboost import XGBClassifier\n",
    "from sklearn.model_selection import cross_val_score,StratifiedKFold\n",
    "\n",
    "cv_score={}\n",
    "\n",
    "models={\n",
    "    'LogisticRegression':LogisticRegression(),\n",
    "    'DecissionTree':DecisionTreeClassifier(),\n",
    "    'RandomForest':RandomForestClassifier(),\n",
    "    'Xgboost':XGBClassifier()\n",
    "}\n",
    "\n",
    "for model_name, model in models.items():\n",
    "    # Train model\n",
    "    print(f'Tranning {model_name}  : ')\n",
    "    skf = StratifiedKFold(n_splits=5, shuffle=True, random_state=42)\n",
    "    score=cross_val_score(model,X_train, y_train,  cv=skf,scoring='accuracy')\n",
    "    cv_score[model_name] = score\n",
    "    print(f'{model_name}Cross validation accuracy : {score.mean():.2f}')\n",
    "    print('_'*35)"
   ]
  },
  {
   "cell_type": "code",
   "execution_count": null,
   "id": "15ca3220",
   "metadata": {},
   "outputs": [],
   "source": [
    "from sklearn.metrics import accuracy_score, classification_report\n",
    "\n",
    "def evauate_model(true,predicted):\n",
    "    accuracyScore=accuracy_score(true,predicted)\n",
    "    cls_report=classification_report(true,predicted)\n",
    "    return accuracyScore,cls_report"
   ]
  },
  {
   "cell_type": "code",
   "execution_count": null,
   "id": "4c7f145f",
   "metadata": {},
   "outputs": [
    {
     "name": "stdout",
     "output_type": "stream",
     "text": [
      "Training model: LogisticRegression\n",
      "\n",
      "LogisticRegression - Model Performance\n",
      "Training Set:\n",
      " Accuracy: 0.8918\n",
      " Classification Report:\n",
      "               precision    recall  f1-score   support\n",
      "\n",
      "           0       0.92      0.85      0.89      4121\n",
      "           1       0.86      0.93      0.90      4121\n",
      "\n",
      "    accuracy                           0.89      8242\n",
      "   macro avg       0.89      0.89      0.89      8242\n",
      "weighted avg       0.89      0.89      0.89      8242\n",
      "\n",
      "Test Set:\n",
      " Accuracy: 0.7779\n",
      " Classification Report:\n",
      "               precision    recall  f1-score   support\n",
      "\n",
      "           0       0.90      0.80      0.84      1053\n",
      "           1       0.55      0.72      0.62       356\n",
      "\n",
      "    accuracy                           0.78      1409\n",
      "   macro avg       0.72      0.76      0.73      1409\n",
      "weighted avg       0.81      0.78      0.79      1409\n",
      "\n",
      "================================================== \n",
      "\n",
      "Training model: DecisionTree\n",
      "\n",
      "DecisionTree - Model Performance\n",
      "Training Set:\n",
      " Accuracy: 0.9985\n",
      " Classification Report:\n",
      "               precision    recall  f1-score   support\n",
      "\n",
      "           0       1.00      1.00      1.00      4121\n",
      "           1       1.00      1.00      1.00      4121\n",
      "\n",
      "    accuracy                           1.00      8242\n",
      "   macro avg       1.00      1.00      1.00      8242\n",
      "weighted avg       1.00      1.00      1.00      8242\n",
      "\n",
      "Test Set:\n",
      " Accuracy: 0.7644\n",
      " Classification Report:\n",
      "               precision    recall  f1-score   support\n",
      "\n",
      "           0       0.85      0.84      0.84      1053\n",
      "           1       0.53      0.55      0.54       356\n",
      "\n",
      "    accuracy                           0.76      1409\n",
      "   macro avg       0.69      0.69      0.69      1409\n",
      "weighted avg       0.77      0.76      0.77      1409\n",
      "\n",
      "================================================== \n",
      "\n",
      "Training model: RandomForest\n",
      "\n",
      "RandomForest - Model Performance\n",
      "Training Set:\n",
      " Accuracy: 0.9985\n",
      " Classification Report:\n",
      "               precision    recall  f1-score   support\n",
      "\n",
      "           0       1.00      1.00      1.00      4121\n",
      "           1       1.00      1.00      1.00      4121\n",
      "\n",
      "    accuracy                           1.00      8242\n",
      "   macro avg       1.00      1.00      1.00      8242\n",
      "weighted avg       1.00      1.00      1.00      8242\n",
      "\n",
      "Test Set:\n",
      " Accuracy: 0.7991\n",
      " Classification Report:\n",
      "               precision    recall  f1-score   support\n",
      "\n",
      "           0       0.85      0.89      0.87      1053\n",
      "           1       0.62      0.53      0.57       356\n",
      "\n",
      "    accuracy                           0.80      1409\n",
      "   macro avg       0.73      0.71      0.72      1409\n",
      "weighted avg       0.79      0.80      0.79      1409\n",
      "\n",
      "================================================== \n",
      "\n",
      "Training model: XGBoost\n"
     ]
    },
    {
     "name": "stderr",
     "output_type": "stream",
     "text": [
      "c:\\Users\\acer\\Desktop\\churn end to end\\Customer-churn-prediction\\venv_e\\Lib\\site-packages\\xgboost\\training.py:183: UserWarning: [16:17:29] WARNING: C:\\actions-runner\\_work\\xgboost\\xgboost\\src\\learner.cc:738: \n",
      "Parameters: { \"use_label_encoder\" } are not used.\n",
      "\n",
      "  bst.update(dtrain, iteration=i, fobj=obj)\n"
     ]
    },
    {
     "name": "stdout",
     "output_type": "stream",
     "text": [
      "\n",
      "XGBoost - Model Performance\n",
      "Training Set:\n",
      " Accuracy: 0.9037\n",
      " Classification Report:\n",
      "               precision    recall  f1-score   support\n",
      "\n",
      "           0       0.89      0.92      0.91      4121\n",
      "           1       0.92      0.89      0.90      4121\n",
      "\n",
      "    accuracy                           0.90      8242\n",
      "   macro avg       0.90      0.90      0.90      8242\n",
      "weighted avg       0.90      0.90      0.90      8242\n",
      "\n",
      "Test Set:\n",
      " Accuracy: 0.7991\n",
      " Classification Report:\n",
      "               precision    recall  f1-score   support\n",
      "\n",
      "           0       0.86      0.88      0.87      1053\n",
      "           1       0.61      0.56      0.59       356\n",
      "\n",
      "    accuracy                           0.80      1409\n",
      "   macro avg       0.73      0.72      0.73      1409\n",
      "weighted avg       0.79      0.80      0.80      1409\n",
      "\n",
      "================================================== \n",
      "\n"
     ]
    }
   ],
   "source": [
    "from sklearn.linear_model import LogisticRegression\n",
    "from sklearn.tree import DecisionTreeClassifier\n",
    "from sklearn.ensemble import RandomForestClassifier\n",
    "from xgboost import XGBClassifier\n",
    "from sklearn.metrics import accuracy_score, classification_report\n",
    "\n",
    "# Define your models\n",
    "models = {\n",
    "    'LogisticRegression': LogisticRegression(),\n",
    "    'DecisionTree': DecisionTreeClassifier(),\n",
    "    'RandomForest': RandomForestClassifier(),\n",
    "    'XGBoost': XGBClassifier(use_label_encoder=False, eval_metric='logloss')\n",
    "}\n",
    "\n",
    "# Helper function to evaluate a model\n",
    "def evaluate_model(y_true, y_pred):\n",
    "    accuracy = accuracy_score(y_true, y_pred)\n",
    "    report = classification_report(y_true, y_pred)\n",
    "    return accuracy, report\n",
    "\n",
    "# Lists to store results\n",
    "model_list = []\n",
    "accuracy_list = []\n",
    "cls_report_list = []\n",
    "\n",
    "# Loop through each model and evaluate\n",
    "for name, model in models.items():\n",
    "    print(f\"Training model: {name}\")\n",
    "\n",
    "    # Train\n",
    "    model.fit(X_train, y_train)\n",
    "\n",
    "    # Predict\n",
    "    y_train_pred = model.predict(X_train)\n",
    "    y_test_pred = model.predict(X_test)\n",
    "\n",
    "    # Evaluate\n",
    "    train_accuracy, train_report = evaluate_model(y_train, y_train_pred)\n",
    "    test_accuracy, test_report = evaluate_model(y_test, y_test_pred)\n",
    "\n",
    "    # Store results\n",
    "    model_list.append(name)\n",
    "    accuracy_list.append(test_accuracy)\n",
    "    cls_report_list.append(test_report)\n",
    "\n",
    "    # Print results\n",
    "    print(f\"\\n{name} - Model Performance\")\n",
    "    print(\"Training Set:\")\n",
    "    print(f\" Accuracy: {train_accuracy:.4f}\")\n",
    "    print(\" Classification Report:\\n\", train_report)\n",
    "\n",
    "    print(\"Test Set:\")\n",
    "    print(f\" Accuracy: {test_accuracy:.4f}\")\n",
    "    print(\" Classification Report:\\n\", test_report)\n",
    "    print(\"=\" * 50, \"\\n\")\n"
   ]
  },
  {
   "cell_type": "markdown",
   "id": "6f1b346c",
   "metadata": {},
   "source": [
    "### Using the XGBoost  model"
   ]
  },
  {
   "cell_type": "code",
   "execution_count": null,
   "id": "c0c33ec5",
   "metadata": {},
   "outputs": [
    {
     "name": "stderr",
     "output_type": "stream",
     "text": [
      "c:\\Users\\acer\\Desktop\\churn end to end\\Customer-churn-prediction\\venv_e\\Lib\\site-packages\\xgboost\\training.py:183: UserWarning: [16:17:30] WARNING: C:\\actions-runner\\_work\\xgboost\\xgboost\\src\\learner.cc:738: \n",
      "Parameters: { \"fit_intercept\" } are not used.\n",
      "\n",
      "  bst.update(dtrain, iteration=i, fobj=obj)\n"
     ]
    },
    {
     "name": "stdout",
     "output_type": "stream",
     "text": [
      "0.7991483321504613\n",
      "              precision    recall  f1-score   support\n",
      "\n",
      "           0       0.86      0.88      0.87      1053\n",
      "           1       0.61      0.56      0.59       356\n",
      "\n",
      "    accuracy                           0.80      1409\n",
      "   macro avg       0.73      0.72      0.73      1409\n",
      "weighted avg       0.79      0.80      0.80      1409\n",
      "\n"
     ]
    }
   ],
   "source": [
    "XG_model=XGBClassifier(fit_intercept=True)\n",
    "XG_model=XG_model.fit(X_train,y_train)\n",
    "y_pred=XG_model.predict(X_test)\n",
    "accurcy=accuracy_score(y_test,y_pred)\n",
    "C_report=classification_report(y_test,y_pred)\n",
    "print(accurcy)\n",
    "print(C_report)\n"
   ]
  },
  {
   "cell_type": "code",
   "execution_count": null,
   "id": "5d43cc3e",
   "metadata": {},
   "outputs": [],
   "source": []
  },
  {
   "cell_type": "code",
   "execution_count": null,
   "id": "9e01c539",
   "metadata": {},
   "outputs": [],
   "source": []
  },
  {
   "cell_type": "code",
   "execution_count": null,
   "id": "2c1b178b",
   "metadata": {},
   "outputs": [],
   "source": []
  }
 ],
 "metadata": {
  "kernelspec": {
   "display_name": "venv_e",
   "language": "python",
   "name": "python3"
  },
  "language_info": {
   "codemirror_mode": {
    "name": "ipython",
    "version": 3
   },
   "file_extension": ".py",
   "mimetype": "text/x-python",
   "name": "python",
   "nbconvert_exporter": "python",
   "pygments_lexer": "ipython3",
   "version": "3.13.0"
  }
 },
 "nbformat": 4,
 "nbformat_minor": 5
}

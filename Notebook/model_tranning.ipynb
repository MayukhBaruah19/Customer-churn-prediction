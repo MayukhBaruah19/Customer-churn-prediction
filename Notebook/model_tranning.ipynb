{
 "cells": [
  {
   "cell_type": "code",
   "execution_count": 65,
   "id": "d8f908e0",
   "metadata": {},
   "outputs": [],
   "source": [
    "import sys\n",
    "import os\n",
    "import pandas as pd\n",
    "import numpy as np\n",
    "import seaborn as sns\n",
    "import matplotlib.pyplot as plt\n",
    "import warnings\n"
   ]
  },
  {
   "cell_type": "code",
   "execution_count": 66,
   "id": "72f93a21",
   "metadata": {},
   "outputs": [
    {
     "data": {
      "text/html": [
       "<div>\n",
       "<style scoped>\n",
       "    .dataframe tbody tr th:only-of-type {\n",
       "        vertical-align: middle;\n",
       "    }\n",
       "\n",
       "    .dataframe tbody tr th {\n",
       "        vertical-align: top;\n",
       "    }\n",
       "\n",
       "    .dataframe thead th {\n",
       "        text-align: right;\n",
       "    }\n",
       "</style>\n",
       "<table border=\"1\" class=\"dataframe\">\n",
       "  <thead>\n",
       "    <tr style=\"text-align: right;\">\n",
       "      <th></th>\n",
       "      <th>customerID</th>\n",
       "      <th>gender</th>\n",
       "      <th>SeniorCitizen</th>\n",
       "      <th>Partner</th>\n",
       "      <th>Dependents</th>\n",
       "      <th>tenure</th>\n",
       "      <th>PhoneService</th>\n",
       "      <th>MultipleLines</th>\n",
       "      <th>InternetService</th>\n",
       "      <th>OnlineSecurity</th>\n",
       "      <th>OnlineBackup</th>\n",
       "      <th>DeviceProtection</th>\n",
       "      <th>TechSupport</th>\n",
       "      <th>StreamingTV</th>\n",
       "      <th>StreamingMovies</th>\n",
       "      <th>Contract</th>\n",
       "      <th>PaperlessBilling</th>\n",
       "      <th>PaymentMethod</th>\n",
       "      <th>MonthlyCharges</th>\n",
       "      <th>TotalCharges</th>\n",
       "      <th>Churn</th>\n",
       "    </tr>\n",
       "  </thead>\n",
       "  <tbody>\n",
       "    <tr>\n",
       "      <th>0</th>\n",
       "      <td>7590-VHVEG</td>\n",
       "      <td>Female</td>\n",
       "      <td>0</td>\n",
       "      <td>Yes</td>\n",
       "      <td>No</td>\n",
       "      <td>1</td>\n",
       "      <td>No</td>\n",
       "      <td>No phone service</td>\n",
       "      <td>DSL</td>\n",
       "      <td>No</td>\n",
       "      <td>Yes</td>\n",
       "      <td>No</td>\n",
       "      <td>No</td>\n",
       "      <td>No</td>\n",
       "      <td>No</td>\n",
       "      <td>Month-to-month</td>\n",
       "      <td>Yes</td>\n",
       "      <td>Electronic check</td>\n",
       "      <td>29.85</td>\n",
       "      <td>29.85</td>\n",
       "      <td>No</td>\n",
       "    </tr>\n",
       "    <tr>\n",
       "      <th>1</th>\n",
       "      <td>5575-GNVDE</td>\n",
       "      <td>Male</td>\n",
       "      <td>0</td>\n",
       "      <td>No</td>\n",
       "      <td>No</td>\n",
       "      <td>34</td>\n",
       "      <td>Yes</td>\n",
       "      <td>No</td>\n",
       "      <td>DSL</td>\n",
       "      <td>Yes</td>\n",
       "      <td>No</td>\n",
       "      <td>Yes</td>\n",
       "      <td>No</td>\n",
       "      <td>No</td>\n",
       "      <td>No</td>\n",
       "      <td>One year</td>\n",
       "      <td>No</td>\n",
       "      <td>Mailed check</td>\n",
       "      <td>56.95</td>\n",
       "      <td>1889.5</td>\n",
       "      <td>No</td>\n",
       "    </tr>\n",
       "    <tr>\n",
       "      <th>2</th>\n",
       "      <td>3668-QPYBK</td>\n",
       "      <td>Male</td>\n",
       "      <td>0</td>\n",
       "      <td>No</td>\n",
       "      <td>No</td>\n",
       "      <td>2</td>\n",
       "      <td>Yes</td>\n",
       "      <td>No</td>\n",
       "      <td>DSL</td>\n",
       "      <td>Yes</td>\n",
       "      <td>Yes</td>\n",
       "      <td>No</td>\n",
       "      <td>No</td>\n",
       "      <td>No</td>\n",
       "      <td>No</td>\n",
       "      <td>Month-to-month</td>\n",
       "      <td>Yes</td>\n",
       "      <td>Mailed check</td>\n",
       "      <td>53.85</td>\n",
       "      <td>108.15</td>\n",
       "      <td>Yes</td>\n",
       "    </tr>\n",
       "    <tr>\n",
       "      <th>3</th>\n",
       "      <td>7795-CFOCW</td>\n",
       "      <td>Male</td>\n",
       "      <td>0</td>\n",
       "      <td>No</td>\n",
       "      <td>No</td>\n",
       "      <td>45</td>\n",
       "      <td>No</td>\n",
       "      <td>No phone service</td>\n",
       "      <td>DSL</td>\n",
       "      <td>Yes</td>\n",
       "      <td>No</td>\n",
       "      <td>Yes</td>\n",
       "      <td>Yes</td>\n",
       "      <td>No</td>\n",
       "      <td>No</td>\n",
       "      <td>One year</td>\n",
       "      <td>No</td>\n",
       "      <td>Bank transfer (automatic)</td>\n",
       "      <td>42.30</td>\n",
       "      <td>1840.75</td>\n",
       "      <td>No</td>\n",
       "    </tr>\n",
       "    <tr>\n",
       "      <th>4</th>\n",
       "      <td>9237-HQITU</td>\n",
       "      <td>Female</td>\n",
       "      <td>0</td>\n",
       "      <td>No</td>\n",
       "      <td>No</td>\n",
       "      <td>2</td>\n",
       "      <td>Yes</td>\n",
       "      <td>No</td>\n",
       "      <td>Fiber optic</td>\n",
       "      <td>No</td>\n",
       "      <td>No</td>\n",
       "      <td>No</td>\n",
       "      <td>No</td>\n",
       "      <td>No</td>\n",
       "      <td>No</td>\n",
       "      <td>Month-to-month</td>\n",
       "      <td>Yes</td>\n",
       "      <td>Electronic check</td>\n",
       "      <td>70.70</td>\n",
       "      <td>151.65</td>\n",
       "      <td>Yes</td>\n",
       "    </tr>\n",
       "  </tbody>\n",
       "</table>\n",
       "</div>"
      ],
      "text/plain": [
       "   customerID  gender  SeniorCitizen  ... MonthlyCharges TotalCharges  Churn\n",
       "0  7590-VHVEG  Female              0  ...          29.85        29.85     No\n",
       "1  5575-GNVDE    Male              0  ...          56.95       1889.5     No\n",
       "2  3668-QPYBK    Male              0  ...          53.85       108.15    Yes\n",
       "3  7795-CFOCW    Male              0  ...          42.30      1840.75     No\n",
       "4  9237-HQITU  Female              0  ...          70.70       151.65    Yes\n",
       "\n",
       "[5 rows x 21 columns]"
      ]
     },
     "execution_count": 66,
     "metadata": {},
     "output_type": "execute_result"
    }
   ],
   "source": [
    "data=pd.read_csv('data/churn data.csv')\n",
    "data.head()"
   ]
  },
  {
   "cell_type": "code",
   "execution_count": 67,
   "id": "6ae98c96",
   "metadata": {},
   "outputs": [],
   "source": [
    "#dropping umwanted columns\n",
    "data=data.drop(['customerID'], axis=1 )"
   ]
  },
  {
   "cell_type": "markdown",
   "id": "454dd68b",
   "metadata": {},
   "source": [
    "### Splitting the data"
   ]
  },
  {
   "cell_type": "code",
   "execution_count": 68,
   "id": "9e9b8975",
   "metadata": {},
   "outputs": [],
   "source": [
    "X=data.drop(['Churn'], axis=1)\n",
    "y=data['Churn']\n",
    "y=y.to_frame()"
   ]
  },
  {
   "cell_type": "code",
   "execution_count": 69,
   "id": "92fd6aab",
   "metadata": {},
   "outputs": [
    {
     "name": "stdout",
     "output_type": "stream",
     "text": [
      "gender ['Female' 'Male']\n",
      "------------------------------\n",
      "SeniorCitizen [0 1]\n",
      "------------------------------\n",
      "Partner ['Yes' 'No']\n",
      "------------------------------\n",
      "Dependents ['No' 'Yes']\n",
      "------------------------------\n",
      "PhoneService ['No' 'Yes']\n",
      "------------------------------\n",
      "MultipleLines ['No phone service' 'No' 'Yes']\n",
      "------------------------------\n",
      "InternetService ['DSL' 'Fiber optic' 'No']\n",
      "------------------------------\n",
      "OnlineSecurity ['No' 'Yes' 'No internet service']\n",
      "------------------------------\n",
      "OnlineBackup ['Yes' 'No' 'No internet service']\n",
      "------------------------------\n",
      "DeviceProtection ['No' 'Yes' 'No internet service']\n",
      "------------------------------\n",
      "TechSupport ['No' 'Yes' 'No internet service']\n",
      "------------------------------\n",
      "StreamingTV ['No' 'Yes' 'No internet service']\n",
      "------------------------------\n",
      "StreamingMovies ['No' 'Yes' 'No internet service']\n",
      "------------------------------\n",
      "Contract ['Month-to-month' 'One year' 'Two year']\n",
      "------------------------------\n",
      "PaperlessBilling ['Yes' 'No']\n",
      "------------------------------\n",
      "PaymentMethod ['Electronic check' 'Mailed check' 'Bank transfer (automatic)'\n",
      " 'Credit card (automatic)']\n",
      "------------------------------\n",
      "Churn ['No' 'Yes']\n",
      "------------------------------\n"
     ]
    }
   ],
   "source": [
    "numerical_features=['tenure','MonthlyCharges','TotalCharges']\n",
    "for column in data.columns:\n",
    "    if column not in numerical_features:\n",
    "         print(column,data[column].unique())\n",
    "         print('-'*30)"
   ]
  },
  {
   "cell_type": "code",
   "execution_count": 70,
   "id": "5420d8ef",
   "metadata": {},
   "outputs": [],
   "source": [
    "numerical_features=X.select_dtypes(exclude='object').columns\n",
    "categorical_features=X.select_dtypes(include='object').columns"
   ]
  },
  {
   "cell_type": "code",
   "execution_count": 71,
   "id": "9a06340b",
   "metadata": {},
   "outputs": [],
   "source": [
    "# from sklearn.preprocessing import LabelEncoder\n",
    "# le=LabelEncoder()\n",
    "# y = le.fit_transform(y)\n",
    "\n"
   ]
  },
  {
   "cell_type": "code",
   "execution_count": 72,
   "id": "91059630",
   "metadata": {},
   "outputs": [],
   "source": [
    "from sklearn.preprocessing import StandardScaler, OneHotEncoder,LabelEncoder\n",
    "from sklearn.compose import ColumnTransformer\n",
    "Label_Encoder=LabelEncoder()\n",
    "standered_scaller=StandardScaler()\n",
    "one_hot_encoder=OneHotEncoder()\n",
    "column_transformer=ColumnTransformer([\n",
    "    ('OneHotEncoder', one_hot_encoder, categorical_features),\n",
    "\n",
    "    ('StandardScaler', standered_scaller, numerical_features),\n",
    "]\n",
    ")\n"
   ]
  },
  {
   "cell_type": "code",
   "execution_count": 73,
   "id": "46853f87",
   "metadata": {},
   "outputs": [
    {
     "name": "stderr",
     "output_type": "stream",
     "text": [
      "c:\\Users\\acer\\Desktop\\churn end to end\\Customer-churn-prediction\\venv_e\\Lib\\site-packages\\sklearn\\preprocessing\\_label.py:110: DataConversionWarning: A column-vector y was passed when a 1d array was expected. Please change the shape of y to (n_samples, ), for example using ravel().\n",
      "  y = column_or_1d(y, warn=True)\n"
     ]
    }
   ],
   "source": [
    "X=column_transformer.fit_transform(X)\n",
    "y=Label_Encoder.fit_transform(y)\n"
   ]
  },
  {
   "cell_type": "code",
   "execution_count": 74,
   "id": "df414b95",
   "metadata": {},
   "outputs": [
    {
     "data": {
      "text/plain": [
       "array([[ 1.        ,  0.        ,  0.        , ..., -0.43991649,\n",
       "        -1.27744458, -1.16032292],\n",
       "       [ 0.        ,  1.        ,  1.        , ..., -0.43991649,\n",
       "         0.06632742, -0.25962894],\n",
       "       [ 0.        ,  1.        ,  1.        , ..., -0.43991649,\n",
       "        -1.23672422, -0.36266036],\n",
       "       ...,\n",
       "       [ 1.        ,  0.        ,  0.        , ..., -0.43991649,\n",
       "        -0.87024095, -1.1686319 ],\n",
       "       [ 0.        ,  1.        ,  0.        , ...,  2.27315869,\n",
       "        -1.15528349,  0.32033821],\n",
       "       [ 0.        ,  1.        ,  1.        , ..., -0.43991649,\n",
       "         1.36937906,  1.35896134]], shape=(7043, 6575))"
      ]
     },
     "execution_count": 74,
     "metadata": {},
     "output_type": "execute_result"
    }
   ],
   "source": [
    "X.toarray()"
   ]
  },
  {
   "cell_type": "code",
   "execution_count": 75,
   "id": "e39d607a",
   "metadata": {},
   "outputs": [
    {
     "data": {
      "text/plain": [
       "((5634, 6575), (1409, 6575))"
      ]
     },
     "execution_count": 75,
     "metadata": {},
     "output_type": "execute_result"
    }
   ],
   "source": [
    "from sklearn.model_selection import  train_test_split\n",
    "X_train,X_test,y_train,y_test=train_test_split(X,y,test_size=0.2)\n",
    "X_train.shape,X_test.shape"
   ]
  },
  {
   "cell_type": "code",
   "execution_count": 76,
   "id": "b09d8043",
   "metadata": {},
   "outputs": [],
   "source": [
    "# from sklearn.model_selection import train_test_split\n",
    "\n",
    "# X_train, X_test, y_train, y_test = train_test_split(\n",
    "#     X, y, test_size=0.2, random_state=42, stratify=y\n",
    "# )\n"
   ]
  },
  {
   "cell_type": "code",
   "execution_count": 77,
   "id": "b3e05b88",
   "metadata": {},
   "outputs": [
    {
     "data": {
      "text/plain": [
       "0    4137\n",
       "1    1497\n",
       "Name: count, dtype: int64"
      ]
     },
     "execution_count": 77,
     "metadata": {},
     "output_type": "execute_result"
    }
   ],
   "source": [
    "pd.Series(y_train).value_counts()"
   ]
  },
  {
   "cell_type": "markdown",
   "id": "a5ff19b4",
   "metadata": {},
   "source": [
    "We will perform SMOTE to the tranning data"
   ]
  },
  {
   "cell_type": "code",
   "execution_count": 78,
   "id": "3e0dfad2",
   "metadata": {},
   "outputs": [
    {
     "name": "stderr",
     "output_type": "stream",
     "text": [
      "c:\\Users\\acer\\Desktop\\churn end to end\\Customer-churn-prediction\\venv_e\\Lib\\site-packages\\sklearn\\base.py:474: FutureWarning: `BaseEstimator._validate_data` is deprecated in 1.6 and will be removed in 1.7. Use `sklearn.utils.validation.validate_data` instead. This function becomes public and is part of the scikit-learn developer API.\n",
      "  warnings.warn(\n"
     ]
    }
   ],
   "source": [
    "from imblearn.over_sampling import SMOTE\n",
    "smote=SMOTE(random_state=42)\n",
    "X_train,y_train=smote.fit_resample(X_train,y_train)"
   ]
  },
  {
   "cell_type": "code",
   "execution_count": 79,
   "id": "8827d7bd",
   "metadata": {},
   "outputs": [
    {
     "data": {
      "text/plain": [
       "0    4137\n",
       "1    4137\n",
       "Name: count, dtype: int64"
      ]
     },
     "execution_count": 79,
     "metadata": {},
     "output_type": "execute_result"
    }
   ],
   "source": [
    "pd.Series(y_train).value_counts()"
   ]
  },
  {
   "cell_type": "markdown",
   "id": "570df5a3",
   "metadata": {},
   "source": [
    "## Model Tranning"
   ]
  },
  {
   "cell_type": "code",
   "execution_count": 80,
   "id": "d604785c",
   "metadata": {},
   "outputs": [],
   "source": [
    "# from sklearn.linear_model import LogisticRegression\n",
    "# from sklearn.tree import DecisionTreeClassifier\n",
    "# from sklearn.ensemble import RandomForestClassifier\n",
    "# from xgboost import XGBClassifier\n",
    "\n",
    "# models={\n",
    "#     'LogisticRegression':LogisticRegression(),\n",
    "#     'DecissionTree':DecisionTreeClassifier(),\n",
    "#     'RandomForest':RandomForestClassifier(),\n",
    "#     'Xgboost':XGBClassifier()\n",
    "# }\n",
    "\n",
    "# model_list=[]\n",
    "# accuracy_list=[]\n",
    "\n",
    "# for i in range(len(list(models))):\n",
    "#     model=list(models.values())[i]\n",
    "#     #Train model\n",
    "#     model.fit(X_train,y_train)\n",
    "\n",
    "#     y_train_pred=model.predict(X_train)\n",
    "#     y_test_pred=model.predict(X_test)\n",
    "\n",
    "#     # Evaluate Train and Test dataset\n",
    "#     model_train_accuracy , model_train_cMatrix, model_train_cls_report = evauate_model(y_train, y_train_pred)\n",
    "#     model_test_accuracy , model_test_cMatrix, model_test_cls_report = evauate_model(y_test, y_test_pred)\n",
    "    \n",
    "\n",
    "#     print(list(models.keys())[i])\n",
    "#     model_list.append(list(models.keys())[i])\n",
    "\n",
    "     \n",
    "#     print('Model performance for Training set')\n",
    "#     print(\"- Acucuracy: \\n\",(model_train_accuracy))\n",
    "#     print(\"- confusion matrix:\\n\",(model_train_cMatrix))\n",
    "#     print(\"- classification report: \",(model_train_cls_report))\n",
    "\n",
    "#     print('----------------------------------')\n",
    "    \n",
    "#     print('Model performance for Test set')\n",
    "#     print(\"-  Acucuracy : {:.4f}\".format(model_test_accuracy))\n",
    "#     print(\"- confusion matrix:\", (model_test_cMatrix))\n",
    "#     print(\"- classification report:\",(model_test_cls_report))\n",
    "#     accuracy_list.append(model_test_accuracy)\n",
    "    \n",
    "#     print('='*35)\n",
    "#     print('\\n')"
   ]
  },
  {
   "cell_type": "markdown",
   "id": "7e2089d3",
   "metadata": {},
   "source": [
    "**Applying cross validation and selects the best model**"
   ]
  },
  {
   "cell_type": "code",
   "execution_count": 81,
   "id": "46ea8fc5",
   "metadata": {},
   "outputs": [
    {
     "name": "stdout",
     "output_type": "stream",
     "text": [
      "Tranning LogisticRegression  : \n",
      "LogisticRegressionCross validation accuracy : 0.83\n",
      "___________________________________\n",
      "Tranning DecissionTree  : \n",
      "DecissionTreeCross validation accuracy : 0.83\n",
      "___________________________________\n",
      "Tranning RandomForest  : \n",
      "RandomForestCross validation accuracy : 0.88\n",
      "___________________________________\n",
      "Tranning Xgboost  : \n",
      "XgboostCross validation accuracy : 0.86\n",
      "___________________________________\n"
     ]
    }
   ],
   "source": [
    "from sklearn.linear_model import LogisticRegression\n",
    "from sklearn.tree import DecisionTreeClassifier\n",
    "from sklearn.ensemble import RandomForestClassifier\n",
    "from xgboost import XGBClassifier\n",
    "from sklearn.model_selection import cross_val_score,StratifiedKFold\n",
    "\n",
    "cv_score={}\n",
    "\n",
    "models={\n",
    "    'LogisticRegression':LogisticRegression(),\n",
    "    'DecissionTree':DecisionTreeClassifier(),\n",
    "    'RandomForest':RandomForestClassifier(),\n",
    "    'Xgboost':XGBClassifier()\n",
    "}\n",
    "\n",
    "for model_name, model in models.items():\n",
    "    # Train model\n",
    "    print(f'Tranning {model_name}  : ')\n",
    "    skf = StratifiedKFold(n_splits=5, shuffle=True, random_state=42)\n",
    "    score=cross_val_score(model,X_train, y_train,  cv=skf,scoring='accuracy')\n",
    "    cv_score[model_name] = score\n",
    "    print(f'{model_name}Cross validation accuracy : {score.mean():.2f}')\n",
    "    print('_'*35)"
   ]
  },
  {
   "cell_type": "code",
   "execution_count": 82,
   "id": "15ca3220",
   "metadata": {},
   "outputs": [],
   "source": [
    "from sklearn.metrics import accuracy_score, classification_report\n",
    "\n",
    "def evauate_model(true,predicted):\n",
    "    accuracyScore=accuracy_score(true,predicted)\n",
    "    cls_report=classification_report(true,predicted)\n",
    "    return accuracyScore,cls_report"
   ]
  },
  {
   "cell_type": "code",
   "execution_count": 84,
   "id": "4c7f145f",
   "metadata": {},
   "outputs": [
    {
     "name": "stdout",
     "output_type": "stream",
     "text": [
      "Training model: LogisticRegression\n",
      "\n",
      "LogisticRegression - Model Performance\n",
      "Training Set:\n",
      " Accuracy: 0.8945\n",
      " Classification Report:\n",
      "               precision    recall  f1-score   support\n",
      "\n",
      "           0       0.93      0.86      0.89      4137\n",
      "           1       0.87      0.93      0.90      4137\n",
      "\n",
      "    accuracy                           0.89      8274\n",
      "   macro avg       0.90      0.89      0.89      8274\n",
      "weighted avg       0.90      0.89      0.89      8274\n",
      "\n",
      "Test Set:\n",
      " Accuracy: 0.7665\n",
      " Classification Report:\n",
      "               precision    recall  f1-score   support\n",
      "\n",
      "           0       0.88      0.79      0.83      1037\n",
      "           1       0.54      0.71      0.62       372\n",
      "\n",
      "    accuracy                           0.77      1409\n",
      "   macro avg       0.71      0.75      0.72      1409\n",
      "weighted avg       0.79      0.77      0.78      1409\n",
      "\n",
      "================================================== \n",
      "\n",
      "Training model: DecisionTree\n",
      "\n",
      "DecisionTree - Model Performance\n",
      "Training Set:\n",
      " Accuracy: 0.9985\n",
      " Classification Report:\n",
      "               precision    recall  f1-score   support\n",
      "\n",
      "           0       1.00      1.00      1.00      4137\n",
      "           1       1.00      1.00      1.00      4137\n",
      "\n",
      "    accuracy                           1.00      8274\n",
      "   macro avg       1.00      1.00      1.00      8274\n",
      "weighted avg       1.00      1.00      1.00      8274\n",
      "\n",
      "Test Set:\n",
      " Accuracy: 0.7736\n",
      " Classification Report:\n",
      "               precision    recall  f1-score   support\n",
      "\n",
      "           0       0.84      0.85      0.85      1037\n",
      "           1       0.57      0.56      0.57       372\n",
      "\n",
      "    accuracy                           0.77      1409\n",
      "   macro avg       0.71      0.70      0.71      1409\n",
      "weighted avg       0.77      0.77      0.77      1409\n",
      "\n",
      "================================================== \n",
      "\n",
      "Training model: RandomForest\n",
      "\n",
      "RandomForest - Model Performance\n",
      "Training Set:\n",
      " Accuracy: 0.9985\n",
      " Classification Report:\n",
      "               precision    recall  f1-score   support\n",
      "\n",
      "           0       1.00      1.00      1.00      4137\n",
      "           1       1.00      1.00      1.00      4137\n",
      "\n",
      "    accuracy                           1.00      8274\n",
      "   macro avg       1.00      1.00      1.00      8274\n",
      "weighted avg       1.00      1.00      1.00      8274\n",
      "\n",
      "Test Set:\n",
      " Accuracy: 0.7906\n",
      " Classification Report:\n",
      "               precision    recall  f1-score   support\n",
      "\n",
      "           0       0.84      0.88      0.86      1037\n",
      "           1       0.62      0.54      0.58       372\n",
      "\n",
      "    accuracy                           0.79      1409\n",
      "   macro avg       0.73      0.71      0.72      1409\n",
      "weighted avg       0.78      0.79      0.79      1409\n",
      "\n",
      "================================================== \n",
      "\n",
      "Training model: XGBoost\n"
     ]
    },
    {
     "name": "stderr",
     "output_type": "stream",
     "text": [
      "c:\\Users\\acer\\Desktop\\churn end to end\\Customer-churn-prediction\\venv_e\\Lib\\site-packages\\xgboost\\training.py:183: UserWarning: [13:24:46] WARNING: C:\\actions-runner\\_work\\xgboost\\xgboost\\src\\learner.cc:738: \n",
      "Parameters: { \"use_label_encoder\" } are not used.\n",
      "\n",
      "  bst.update(dtrain, iteration=i, fobj=obj)\n"
     ]
    },
    {
     "name": "stdout",
     "output_type": "stream",
     "text": [
      "\n",
      "XGBoost - Model Performance\n",
      "Training Set:\n",
      " Accuracy: 0.8955\n",
      " Classification Report:\n",
      "               precision    recall  f1-score   support\n",
      "\n",
      "           0       0.89      0.91      0.90      4137\n",
      "           1       0.90      0.88      0.89      4137\n",
      "\n",
      "    accuracy                           0.90      8274\n",
      "   macro avg       0.90      0.90      0.90      8274\n",
      "weighted avg       0.90      0.90      0.90      8274\n",
      "\n",
      "Test Set:\n",
      " Accuracy: 0.8020\n",
      " Classification Report:\n",
      "               precision    recall  f1-score   support\n",
      "\n",
      "           0       0.86      0.88      0.87      1037\n",
      "           1       0.63      0.59      0.61       372\n",
      "\n",
      "    accuracy                           0.80      1409\n",
      "   macro avg       0.75      0.73      0.74      1409\n",
      "weighted avg       0.80      0.80      0.80      1409\n",
      "\n",
      "================================================== \n",
      "\n"
     ]
    }
   ],
   "source": [
    "from sklearn.linear_model import LogisticRegression\n",
    "from sklearn.tree import DecisionTreeClassifier\n",
    "from sklearn.ensemble import RandomForestClassifier\n",
    "from xgboost import XGBClassifier\n",
    "from sklearn.metrics import accuracy_score, classification_report\n",
    "\n",
    "# Define your models\n",
    "models = {\n",
    "    'LogisticRegression': LogisticRegression(),\n",
    "    'DecisionTree': DecisionTreeClassifier(),\n",
    "    'RandomForest': RandomForestClassifier(),\n",
    "    'XGBoost': XGBClassifier(use_label_encoder=False, eval_metric='logloss')\n",
    "}\n",
    "\n",
    "# Helper function to evaluate a model\n",
    "def evaluate_model(y_true, y_pred):\n",
    "    accuracy = accuracy_score(y_true, y_pred)\n",
    "    report = classification_report(y_true, y_pred)\n",
    "    return accuracy, report\n",
    "\n",
    "# Lists to store results\n",
    "model_list = []\n",
    "accuracy_list = []\n",
    "cls_report_list = []\n",
    "\n",
    "# Loop through each model and evaluate\n",
    "for name, model in models.items():\n",
    "    print(f\"Training model: {name}\")\n",
    "\n",
    "    # Train\n",
    "    model.fit(X_train, y_train)\n",
    "\n",
    "    # Predict\n",
    "    y_train_pred = model.predict(X_train)\n",
    "    y_test_pred = model.predict(X_test)\n",
    "\n",
    "    # Evaluate\n",
    "    train_accuracy, train_report = evaluate_model(y_train, y_train_pred)\n",
    "    test_accuracy, test_report = evaluate_model(y_test, y_test_pred)\n",
    "\n",
    "    # Store results\n",
    "    model_list.append(name)\n",
    "    accuracy_list.append(test_accuracy)\n",
    "    cls_report_list.append(test_report)\n",
    "\n",
    "    # Print results\n",
    "    print(f\"\\n{name} - Model Performance\")\n",
    "    print(\"Training Set:\")\n",
    "    print(f\" Accuracy: {train_accuracy:.4f}\")\n",
    "    print(\" Classification Report:\\n\", train_report)\n",
    "\n",
    "    print(\"Test Set:\")\n",
    "    print(f\" Accuracy: {test_accuracy:.4f}\")\n",
    "    print(\" Classification Report:\\n\", test_report)\n",
    "    print(\"=\" * 50, \"\\n\")\n"
   ]
  },
  {
   "cell_type": "markdown",
   "id": "6f1b346c",
   "metadata": {},
   "source": [
    "### Using the XGBoost  model"
   ]
  },
  {
   "cell_type": "code",
   "execution_count": 89,
   "id": "c0c33ec5",
   "metadata": {},
   "outputs": [
    {
     "name": "stderr",
     "output_type": "stream",
     "text": [
      "c:\\Users\\acer\\Desktop\\churn end to end\\Customer-churn-prediction\\venv_e\\Lib\\site-packages\\xgboost\\training.py:183: UserWarning: [13:54:23] WARNING: C:\\actions-runner\\_work\\xgboost\\xgboost\\src\\learner.cc:738: \n",
      "Parameters: { \"fit_intercept\" } are not used.\n",
      "\n",
      "  bst.update(dtrain, iteration=i, fobj=obj)\n"
     ]
    },
    {
     "name": "stdout",
     "output_type": "stream",
     "text": [
      "0.8019872249822569\n",
      "              precision    recall  f1-score   support\n",
      "\n",
      "           0       0.86      0.88      0.87      1037\n",
      "           1       0.63      0.59      0.61       372\n",
      "\n",
      "    accuracy                           0.80      1409\n",
      "   macro avg       0.75      0.73      0.74      1409\n",
      "weighted avg       0.80      0.80      0.80      1409\n",
      "\n"
     ]
    }
   ],
   "source": [
    "XG_model=XGBClassifier(fit_intercept=True)\n",
    "XG_model=XG_model.fit(X_train,y_train)\n",
    "y_pred=XG_model.predict(X_test)\n",
    "accurcy=accuracy_score(y_test,y_pred)\n",
    "C_report=classification_report(y_test,y_pred)\n",
    "print(accurcy)\n",
    "print(C_report)\n"
   ]
  }
 ],
 "metadata": {
  "kernelspec": {
   "display_name": "venv_e",
   "language": "python",
   "name": "python3"
  },
  "language_info": {
   "codemirror_mode": {
    "name": "ipython",
    "version": 3
   },
   "file_extension": ".py",
   "mimetype": "text/x-python",
   "name": "python",
   "nbconvert_exporter": "python",
   "pygments_lexer": "ipython3",
   "version": "3.13.0"
  }
 },
 "nbformat": 4,
 "nbformat_minor": 5
}
